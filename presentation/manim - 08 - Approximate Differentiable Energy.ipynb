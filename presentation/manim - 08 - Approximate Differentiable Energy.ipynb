{
 "cells": [
  {
   "cell_type": "code",
   "execution_count": 1,
   "id": "15dcb78d",
   "metadata": {},
   "outputs": [
    {
     "data": {
      "text/html": [
       "<pre style=\"white-space:pre;overflow-x:auto;line-height:normal;font-family:Menlo,'DejaVu Sans Mono',consolas,'Courier New',monospace\">Manim Community <span style=\"color: #008000; text-decoration-color: #008000\">v0.10.0</span>\n",
       "\n",
       "</pre>\n"
      ],
      "text/plain": [
       "Manim Community \u001b[32mv0.\u001b[0m\u001b[32m10.0\u001b[0m\n",
       "\n"
      ]
     },
     "metadata": {},
     "output_type": "display_data"
    }
   ],
   "source": [
    "import typing as t\n",
    "from scipy.stats import poisson, laplace\n",
    "import numpy as np\n",
    "from manim import *\n",
    "config.media_width = \"60%\""
   ]
  },
  {
   "cell_type": "code",
   "execution_count": 2,
   "id": "90b90261",
   "metadata": {},
   "outputs": [],
   "source": [
    "import typing as t\n",
    "\n",
    "import torch\n",
    "from scipy.signal import gaussian\n",
    "from torch import Tensor\n",
    "from torch.nn.functional import affine_grid, grid_sample, softmax, cross_entropy\n",
    "from scipy.ndimage import zoom\n",
    "\n",
    "# noinspection PyPep8Naming\n",
    "def project_lengths_softmax(T: int, L: Tensor) -> Tensor:\n",
    "    \"\"\"\n",
    "\n",
    "    :param T: 1:int\n",
    "    :param L: [M]:float\n",
    "    :return: [M]:float\n",
    "    \"\"\"\n",
    "    return T * softmax(L, dim=0)\n",
    "\n",
    "\n",
    "# noinspection PyPep8Naming\n",
    "def create_masks(\n",
    "    T: int,\n",
    "    L: Tensor,\n",
    "    overlap: float = 0.0,\n",
    "    opts: t.Dict[str, t.Any] = None,\n",
    ") -> Tensor:\n",
    "    \"\"\"\n",
    "    Given a set of projected S_{i}s, creates the attentions for weak training.\n",
    "    :param T: The target size for the masks.\n",
    "    :param L: [M] the projected lengths.\n",
    "    :param overlap: how much overlap should the attentions have\n",
    "    :param opts: potentially other options needed.\n",
    "        \"template_width\": for non-plateau sampling based masks\n",
    "        \"sharpness\": for plateau masks\n",
    "    :return: [M x T] the attention maps.\n",
    "    \"\"\"\n",
    "    default_opts = {\n",
    "        \"sharpness\": 0.1,\n",
    "        \"template_width\": 100,\n",
    "    }\n",
    "    if not opts:  # opts is None\n",
    "        opts = default_opts\n",
    "    else:\n",
    "        # commenting out the line before because it requires Python 3.9.\n",
    "        # opts = default_opts | opts\n",
    "        # update the default opts with the input opts\n",
    "        opts = {**default_opts, **opts}\n",
    "\n",
    "    B = L.size(0)\n",
    "\n",
    "    sharpness = opts[\"sharpness\"]\n",
    "    the_range = torch.arange(\n",
    "        start=0, end=T, step=1.0, dtype=torch.float32, device=L.device\n",
    "    )\n",
    "    pis = torch.cumsum(L, 0)  # [M]\n",
    "    pis -= L  # [B]\n",
    "\n",
    "    if overlap > 0:\n",
    "        L = L * (1.0 + 2 * overlap)\n",
    "        pis = pis - (L * (overlap / 2))\n",
    "\n",
    "    half_width = L / 2.0  # [M]\n",
    "    centers = pis + half_width  # center of the boxes  [M]\n",
    "    sharpness = torch.full(\n",
    "        (B, 1), dtype=torch.float32, device=L.device, fill_value=sharpness\n",
    "    )\n",
    "    c, w, s = (\n",
    "        centers.unsqueeze(1),\n",
    "        half_width.unsqueeze(1),\n",
    "        # sharpness / half_width.unsqueeze(1),\n",
    "        sharpness,\n",
    "        # torch.minimum(sharpness, 500. / half_width.unsqueeze(1))\n",
    "    )\n",
    "    inside_1 = s * (the_range - c - w)\n",
    "    inside_2 = s * (-the_range + c - w)\n",
    "    zeros_ = torch.zeros_like(inside_1)\n",
    "    denom_1_prime = torch.logsumexp(torch.stack((inside_1, zeros_), dim=2), dim=2)\n",
    "    denom_2_prime = torch.logsumexp(torch.stack((inside_2, zeros_), dim=2), dim=2)\n",
    "    g_prime = -1 * (denom_1_prime + denom_2_prime)\n",
    "    g = torch.exp(g_prime)  # [M x T], the masks\n",
    "\n",
    "    # non-log-space implementation is like this\n",
    "    # denom_1 = torch.exp(s * (the_range - c - w)) + 1\n",
    "    # denom_2 = torch.exp(s * (-the_range + c - w)) + 1\n",
    "    # g = 1.0 / (denom_1 * denom_2)\n",
    "\n",
    "    return g"
   ]
  },
  {
   "cell_type": "code",
   "execution_count": 3,
   "id": "b4eedd35",
   "metadata": {},
   "outputs": [
    {
     "data": {
      "text/plain": [
       "0.5"
      ]
     },
     "execution_count": 3,
     "metadata": {},
     "output_type": "execute_result"
    }
   ],
   "source": [
    "laplace.pdf(10, loc=10)"
   ]
  },
  {
   "cell_type": "code",
   "execution_count": 4,
   "id": "d2122696",
   "metadata": {},
   "outputs": [],
   "source": [
    "import cv2"
   ]
  },
  {
   "cell_type": "code",
   "execution_count": 5,
   "id": "03fbb2c7",
   "metadata": {},
   "outputs": [],
   "source": [
    "nll_image = cv2.imread(\"nll1.png\")[:, :, ::-1]"
   ]
  },
  {
   "cell_type": "code",
   "execution_count": 6,
   "id": "ee8eaa7e",
   "metadata": {},
   "outputs": [
    {
     "data": {
      "text/plain": [
       "(143, 967, 3)"
      ]
     },
     "execution_count": 6,
     "metadata": {},
     "output_type": "execute_result"
    }
   ],
   "source": [
    "nll_image.shape"
   ]
  },
  {
   "cell_type": "code",
   "execution_count": 7,
   "id": "fb042f61",
   "metadata": {},
   "outputs": [
    {
     "data": {
      "text/plain": [
       "35.75"
      ]
     },
     "execution_count": 7,
     "metadata": {},
     "output_type": "execute_result"
    }
   ],
   "source": [
    "143/4"
   ]
  },
  {
   "cell_type": "code",
   "execution_count": 8,
   "id": "74ddfa18",
   "metadata": {},
   "outputs": [
    {
     "data": {
      "text/plain": [
       "143"
      ]
     },
     "execution_count": 8,
     "metadata": {},
     "output_type": "execute_result"
    }
   ],
   "source": [
    "36+36+36+35"
   ]
  },
  {
   "cell_type": "code",
   "execution_count": 9,
   "id": "ebd941af",
   "metadata": {},
   "outputs": [
    {
     "data": {
      "text/plain": [
       "array([145., 286., 397., 148.])"
      ]
     },
     "execution_count": 9,
     "metadata": {},
     "output_type": "execute_result"
    }
   ],
   "source": [
    "(np.array([4, 8-0.1, 11-0.01, 4+0.1]) / 27 * 976).round()"
   ]
  },
  {
   "cell_type": "code",
   "execution_count": 10,
   "id": "08fc6b1e",
   "metadata": {},
   "outputs": [],
   "source": [
    "r1 = (0, 36)\n",
    "r2 = (36, 36+35)\n",
    "r3 = (36+35, 36+35+36)\n",
    "r4 = (36+35+36, 36+35+36+36)\n",
    "\n",
    "absolute_lengths = [145, 286, 397-3, 148+3]\n",
    "\n",
    "exact_m_image = np.zeros_like(nll_image)\n",
    "start_length = 0\n",
    "for r, al in zip([r1, r2, r3, r4], absolute_lengths):\n",
    "    exact_m_image[r[0]:r[1], start_length:start_length+al, :] = 255\n",
    "    start_length += al\n",
    "    \n",
    "exact_m_image = exact_m_image.copy()  # there is some very strange caching effect. This copy is to fix it."
   ]
  },
  {
   "cell_type": "code",
   "execution_count": 11,
   "id": "341d0ef9",
   "metadata": {},
   "outputs": [],
   "source": [
    "approx_m = create_masks(967, torch.tensor(absolute_lengths)).numpy() * 255\n",
    "approx_m_image = np.zeros_like(exact_m_image).copy()\n",
    "for i, r in enumerate([r1, r2, r3, r4]):\n",
    "    approx_m_image[r[0]:r[1], :, 0] = approx_m[i, :].copy()\n",
    "    approx_m_image[r[0]:r[1], :, 1] = approx_m[i, :].copy()\n",
    "    approx_m_image[r[0]:r[1], :, 2] = approx_m[i, :].copy()"
   ]
  },
  {
   "cell_type": "code",
   "execution_count": 12,
   "id": "b850b24d",
   "metadata": {},
   "outputs": [
    {
     "data": {
      "text/plain": [
       "(143, 967, 3)"
      ]
     },
     "execution_count": 12,
     "metadata": {},
     "output_type": "execute_result"
    }
   ],
   "source": [
    "approx_m_image.shape"
   ]
  },
  {
   "cell_type": "code",
   "execution_count": 13,
   "id": "74863676",
   "metadata": {},
   "outputs": [
    {
     "data": {
      "text/plain": [
       "(143, 967, 3)"
      ]
     },
     "execution_count": 13,
     "metadata": {},
     "output_type": "execute_result"
    }
   ],
   "source": [
    "exact_m_image.shape"
   ]
  },
  {
   "cell_type": "code",
   "execution_count": 14,
   "id": "293915ca",
   "metadata": {
    "scrolled": false
   },
   "outputs": [
    {
     "name": "stderr",
     "output_type": "stream",
     "text": [
      "                                                                              \r"
     ]
    },
    {
     "data": {
      "text/html": [
       "<video src=\"media/jupyter/Slides08ApproximateDifferentiableEnergy@2021-09-29@11-18-43.mp4\" controls autoplay loop style=\"max-width: 60%;\"  >\n",
       "      Your browser does not support the <code>video</code> element.\n",
       "    </video>"
      ],
      "text/plain": [
       "<IPython.core.display.Video object>"
      ]
     },
     "metadata": {},
     "output_type": "display_data"
    }
   ],
   "source": [
    "%%manim -v WARNING Slides08ApproximateDifferentiableEnergy\n",
    "# %%manim -v WARNING -qm --flush_cache Slides08ApproximateDifferentiableEnergy\n",
    "\n",
    "class Slides08ApproximateDifferentiableEnergy(Scene):\n",
    "    def create_citation(self, title: str) -> Text:\n",
    "        return Text(title, color=GRAY).scale(0.3)\n",
    "    \n",
    "    def create_text_group(self, texts: t.List[Tex]):\n",
    "        return VGroup(*texts).arrange(\n",
    "            DOWN,\n",
    "            center=False,\n",
    "            aligned_edge=LEFT\n",
    "        ).next_to(self.title, DOWN * 1.5).to_edge(LEFT, buff=1)\n",
    "        \n",
    "    def animate_part_of_math(self, math_part, underline_text: t.Optional[str] = None):\n",
    "        prev_color = WHITE\n",
    "        underline = Underline(math_part, buff=0.4)\n",
    "        if underline_text:\n",
    "            underline_text = MathTex(underline_text).move_to(underline.get_bottom() + DOWN * 0.5)\n",
    "            self.play(\n",
    "                AnimationGroup(\n",
    "                    Create(underline),\n",
    "                    Write(underline_text),\n",
    "                    math_part.animate.set_color(YELLOW)\n",
    "                )\n",
    "            )\n",
    "        else:\n",
    "            self.play(\n",
    "                AnimationGroup(\n",
    "                    Create(underline),\n",
    "                    math_part.animate.set_color(YELLOW)\n",
    "                )\n",
    "            )\n",
    "        self.wait()\n",
    "        self.remove(underline)\n",
    "        if underline_text:\n",
    "            self.remove(underline_text)\n",
    "        math_part.set_color(prev_color)\n",
    "        \n",
    "    def show_animation_length_term(self):\n",
    "        self.objective_length_expanded = MathTex(\n",
    "            r\"E(\\ell'_{1:N})\",\n",
    "            r\" = \",\n",
    "            r\"E_o(\\ell'_{1:N})\",\n",
    "            r\" + \",\n",
    "            r\"\\sum_{n=1}^{N}\",\n",
    "            r\"-\",\n",
    "            r\"\\log \",\n",
    "            r\"p\\big(\\ell_n | c_n\\big)\",\n",
    "        ).next_to(self.title, DOWN * 1.5)\n",
    "        \n",
    "        self.objective_length_expanded_replacement = MathTex(\n",
    "            r\"E(\\ell'_{1:N})\",\n",
    "            r\" = \",\n",
    "            r\"E_o(\\ell'_{1:N})\",\n",
    "            r\" + \",\n",
    "            r\"\\sum_{n=1}^{N}\",\n",
    "            r\"-\",\n",
    "            r\"\\log \",\n",
    "            r\"p^\\star\\big(\\ell_n | c_n\\big)\",\n",
    "        ).next_to(self.title, DOWN * 1.5)\n",
    "        \n",
    "        self.objective_length_expanded_final = MathTex(\n",
    "            r\"E(\\ell'_{1:N})\",\n",
    "            r\" = \",\n",
    "            r\"E_o(\\ell'_{1:N})\",\n",
    "            r\" + \",\n",
    "            r\"\\beta\",\n",
    "            r\"\\sum_{n=1}^{N}\",\n",
    "            r\"|\\ell_n - \\lambda^{\\ell}_{c_n}|\"\n",
    "        ).next_to(self.title, DOWN * 1.5)\n",
    "        \n",
    "        self.objective_after_length_update = MathTex(\n",
    "            r\"E(\\ell'_{1:N})\",\n",
    "            r\" = \",\n",
    "            r\"E_o(\\ell'_{1:N})\",\n",
    "            r\" + \",\n",
    "            r\"\\beta\",\n",
    "            r\"E^\\star_\\ell(\\ell'_{1:N})\"\n",
    "        ).next_to(self.title, DOWN * 1.5)\n",
    "        \n",
    "        self.play(TransformMatchingTex(self.objective, self.objective_length_expanded))\n",
    "        self.wait()\n",
    "        \n",
    "        poisson_distribution = self.create_poisson_distribution()\n",
    "        laplace_distribution = self.create_laplace_distribution()\n",
    "        \n",
    "        graphs = VGroup(poisson_distribution, laplace_distribution).arrange(RIGHT, buff=1.0).shift(DOWN)\n",
    "        \n",
    "        self.add(poisson_distribution)\n",
    "        self.objective_length_expanded.set_color_by_tex(r\"p\\big(\\ell_n | c_n\\big)\", YELLOW)\n",
    "        \n",
    "        self.wait()\n",
    "        \n",
    "        self.objective_length_expanded_replacement.set_color_by_tex(r\"p^\\star\\big(\\ell_n | c_n\\big)\", BLUE)\n",
    "        self.play(\n",
    "            AnimationGroup(\n",
    "                FadeIn(laplace_distribution, shift=LEFT),\n",
    "                TransformMatchingTex(self.objective_length_expanded, self.objective_length_expanded_replacement)\n",
    "            )\n",
    "        )\n",
    "        \n",
    "        self.wait()\n",
    "        self.objective_length_expanded_final.set_color_by_tex(r\"\\beta\", BLUE)\n",
    "        self.objective_length_expanded_final.set_color_by_tex(r\"\\sum_{n=1}^{N}\", BLUE)\n",
    "        self.objective_length_expanded_final.set_color_by_tex(r\"|\\ell_n - \\lambda^{\\ell}_{c_n}|\", BLUE)\n",
    "        self.play(\n",
    "            AnimationGroup(\n",
    "                FadeOut(laplace_distribution, shift=LEFT),\n",
    "                FadeOut(poisson_distribution, shift=LEFT),\n",
    "                TransformMatchingTex(self.objective_length_expanded_replacement, self.objective_length_expanded_final)\n",
    "            )\n",
    "        )\n",
    "        \n",
    "        self.wait()\n",
    "        \n",
    "        self.play(TransformMatchingTex(self.objective_length_expanded_final, self.objective_after_length_update))\n",
    "        self.wait()\n",
    "        \n",
    "    def create_poisson_distribution(self, mean: int = 10, color = YELLOW, label: str = \"c_n\") -> VGroup:\n",
    "        axes = Axes(\n",
    "            x_range=[-0.1, 20.9, 1],\n",
    "            y_range=[-0.04, 0.19, 0.05],\n",
    "            x_length=5,\n",
    "            y_length=3,\n",
    "            x_axis_config={\"numbers_to_include\": np.arange(0, 21, 2)},\n",
    "            axis_config={\"color\": WHITE},\n",
    "        )\n",
    "        \n",
    "        x_vals = np.array(list(range(21)))\n",
    "        y_vals = poisson.pmf(x_vals, mu=mean)\n",
    "        graph = axes.get_line_graph(x_values=x_vals, y_values=y_vals, line_color=color)\n",
    "        \n",
    "        x_label = axes.get_x_axis_label(MathTex(r\"\\ell_n\"), edge=DOWN, direction=DOWN)\n",
    "        y_label = axes.get_y_axis_label(MathTex(r\"p(\\ell_n|{})\".format(label)), edge=UP, direction=UP).set_color(color)\n",
    "        \n",
    "        \n",
    "        group = VGroup(axes, graph, x_label, y_label).scale(0.75)\n",
    "        \n",
    "        return group\n",
    "    \n",
    "    def create_laplace_distribution(self, mean: int = 10, color = BLUE, label: str = \"c_n\") -> VGroup:\n",
    "        axes = Axes(\n",
    "            x_range=[-0.1, 20.9, 1],\n",
    "            y_range=[-0.04, 0.19, 0.05],\n",
    "            x_length=5,\n",
    "            y_length=3,\n",
    "            x_axis_config={\"numbers_to_include\": np.arange(0, 21, 2)},\n",
    "            axis_config={\"color\": WHITE},\n",
    "        )\n",
    "        \n",
    "        graph = axes.get_graph(lambda x: 0.3 * laplace.pdf(x, loc=mean), color=color)\n",
    "        \n",
    "        x_label = axes.get_x_axis_label(MathTex(r\"\\ell_n\"), edge=DOWN, direction=DOWN)\n",
    "        y_label = axes.get_y_axis_label(MathTex(r\"p^\\star(\\ell_n|{})\".format(label)), edge=UP, direction=UP).set_color(color)\n",
    "        \n",
    "        \n",
    "        group = VGroup(axes, graph, x_label, y_label).scale(0.75)\n",
    "        \n",
    "        return group\n",
    "            \n",
    "    def create_P_and_M(self):\n",
    "        p_matrix = ImageMobject(nll_image, scale_to_resolution=700)\n",
    "        p_matrix.set_resampling_algorithm(RESAMPLING_ALGORITHMS[\"nearest\"])\n",
    "        \n",
    "        p_plane = NumberPlane(\n",
    "            x_range=[0, 27.01, 1],\n",
    "            y_range=[0, 4.01, 1],\n",
    "            x_length=p_matrix.width,\n",
    "            y_length=p_matrix.height,\n",
    "            axis_config={\n",
    "                \"stroke_color\": BLUE,\n",
    "                \"stroke_width\": 2,\n",
    "            },\n",
    "            background_line_style={\n",
    "                \"stroke_color\": BLUE,\n",
    "                \"stroke_width\": 2,\n",
    "            }\n",
    "        )\n",
    "        p_label = p_plane.get_y_axis_label(\"P\", direction=LEFT, edge=LEFT)\n",
    "        self.p_matrix_group = Group(p_matrix, p_plane, p_label).shift(DOWN * 0.25)\n",
    "        \n",
    "        m_matrix = ImageMobject(exact_m_image, scale_to_resolution=700)\n",
    "        m_matrix.set_resampling_algorithm(RESAMPLING_ALGORITHMS[\"nearest\"])\n",
    "        \n",
    "        m_plane = NumberPlane(\n",
    "            x_range=[0, 27.01, 1],\n",
    "            y_range=[0, 4.01, 1],\n",
    "            x_length=m_matrix.width,\n",
    "            y_length=m_matrix.height,\n",
    "            axis_config={\n",
    "                \"stroke_color\": RED,\n",
    "                \"stroke_width\": 2,\n",
    "            },\n",
    "            background_line_style={\n",
    "                \"stroke_color\": RED,\n",
    "                \"stroke_width\": 2,\n",
    "            }\n",
    "        )\n",
    "        m_label = m_plane.get_y_axis_label(\"M\", direction=LEFT, edge=LEFT)\n",
    "        self.m_matrix_group = Group(m_matrix, m_plane, m_label).shift(DOWN * 2.5)\n",
    "        \n",
    "    def create_M_star(self):\n",
    "        am_matrix = ImageMobject(approx_m_image, scale_to_resolution=700)\n",
    "        am_matrix.set_resampling_algorithm(RESAMPLING_ALGORITHMS[\"linear\"])\n",
    "        \n",
    "        am_plane = NumberPlane(\n",
    "            x_range=[0, 27.01, 1],\n",
    "            y_range=[0, 4.01, 1],\n",
    "            x_length=am_matrix.width,\n",
    "            y_length=am_matrix.height,\n",
    "            axis_config={\n",
    "                \"stroke_color\": RED,\n",
    "                \"stroke_width\": 2,\n",
    "            },\n",
    "            background_line_style={\n",
    "                \"stroke_color\": RED,\n",
    "                \"stroke_width\": 2,\n",
    "            }\n",
    "        )\n",
    "        am_label = am_plane.get_y_axis_label(r\"M^\\star\", direction=LEFT, edge=LEFT)\n",
    "        self.am_matrix_group = Group(am_matrix, am_plane, am_label).shift(DOWN * 2.5)\n",
    "    \n",
    "    def show_animation_observation_term(self):\n",
    "        self.objective_observation_expanded = MathTex(\n",
    "            r\"E(\\ell'_{1:N})\",\n",
    "            r\" = \",\n",
    "            r\"\\sum_{t=1}^{T}\",\n",
    "            r\"-\",\n",
    "            r\"\\log\",\n",
    "            r\"p\\big(\",\n",
    "            r\"\\alpha(t)\",\n",
    "            r\" | \",\n",
    "            r\"x_t\",\n",
    "            r\"\\big)\",\n",
    "            r\" + \",\n",
    "            r\"\\beta\",\n",
    "            r\"E^\\star_\\ell(\\ell'_{1:N})\"\n",
    "        ).next_to(self.title, DOWN * 1.5)\n",
    "        \n",
    "        self.play(TransformMatchingTex(self.objective_after_length_update, self.objective_observation_expanded))\n",
    "        self.wait()\n",
    "        \n",
    "        self.create_P_and_M()\n",
    "        \n",
    "        self.objective_observation_mul = MathTex(\n",
    "            r\"E(\\ell'_{1:N})\",\n",
    "            r\" = \",\n",
    "            r\"\\sum_{t=1}^{T}\",\n",
    "            r\"\\sum_{n=1}^{N}\",\n",
    "            r\"\\big(P \\odot M\\big)[n, t]\",\n",
    "            r\" + \",\n",
    "            r\"\\beta\",\n",
    "            r\"E^\\star_\\ell(\\ell'_{1:N})\"\n",
    "        ).next_to(self.title, DOWN * 1.5)\n",
    "        self.objective_observation_mul.set_color_by_tex(r\"\\big(P \\odot M\\big)[n, t]\", BLUE)\n",
    "        \n",
    "        self.objective_observation_mul_star = MathTex(\n",
    "            r\"E(\\ell'_{1:N})\",\n",
    "            r\" = \",\n",
    "            r\"\\sum_{t=1}^{T}\",\n",
    "            r\"\\sum_{n=1}^{N}\",\n",
    "            r\"\\big(P \\odot M^\\star\\big)[n, t]\",\n",
    "            r\" + \",\n",
    "            r\"\\beta\",\n",
    "            r\"E^\\star_\\ell(\\ell'_{1:N})\"\n",
    "        ).next_to(self.title, DOWN * 1.5)\n",
    "        self.objective_observation_mul_star.set_color_by_tex(r\"\\big(P \\odot M^\\star\\big)[n, t]\", BLUE)\n",
    "        \n",
    "        self.play(TransformMatchingTex(self.objective_observation_expanded, self.objective_observation_mul))\n",
    "        self.wait()\n",
    "        \n",
    "        self.play(\n",
    "            AnimationGroup(\n",
    "                FadeIn(self.p_matrix_group, shift=LEFT),\n",
    "                FadeIn(self.m_matrix_group, shift=LEFT),\n",
    "            )\n",
    "        )\n",
    "        self.wait()\n",
    "        \n",
    "        \n",
    "        \n",
    "        self.create_M_star()\n",
    "        \n",
    "        self.play(\n",
    "            AnimationGroup(\n",
    "                FadeOut(self.m_matrix_group),\n",
    "                FadeIn(self.am_matrix_group),\n",
    "                TransformMatchingTex(self.objective_observation_mul, self.objective_observation_mul_star)\n",
    "            )\n",
    "        )\n",
    "        self.wait()\n",
    "        \n",
    "    \n",
    "    def construct(self):\n",
    "        self.length_values = [ValueTracker(3), ValueTracker(4), ValueTracker(5), ValueTracker(15)]\n",
    "        self.good_lengths = [4, 8, 11, 4]\n",
    "        \n",
    "        self.title = Title(\"Approximate Differentiable Energy\")\n",
    "        self.add(self.title)\n",
    "        \n",
    "        self.objective = MathTex(\n",
    "            r\"E(\\ell'_{1:N})\",\n",
    "            r\" = \",\n",
    "            r\"E_o(\\ell'_{1:N})\",\n",
    "            r\" + \",\n",
    "            r\"E_{\\ell}(\\ell'_{1:N})\",\n",
    "        ).next_to(self.title, DOWN * 1.5)\n",
    "        \n",
    "        \n",
    "        self.the_final_objective = MathTex(\n",
    "            r\"E^\\star(\\ell'_{1:N})\",\n",
    "            r\" = \",\n",
    "            r\"E^\\star_o(\\ell'_{1:N})\",\n",
    "            r\" + \",\n",
    "            r\"\\beta\",\n",
    "            r\"E^\\star_{\\ell}(\\ell'_{1:N})\",\n",
    "        ).scale(1.25)\n",
    "        \n",
    "        self.add(self.objective)\n",
    "        self.wait()\n",
    "        \n",
    "        self.show_animation_length_term()\n",
    "        \n",
    "        self.show_animation_observation_term()\n",
    "        \n",
    "        self.wait(2)\n",
    "        \n",
    "        self.play(\n",
    "            AnimationGroup(\n",
    "                FadeOut(self.am_matrix_group),\n",
    "                FadeOut(self.p_matrix_group),\n",
    "                TransformMatchingTex(self.objective_observation_mul_star, self.the_final_objective)\n",
    "            )\n",
    "        )\n",
    "        self.wait()"
   ]
  },
  {
   "cell_type": "code",
   "execution_count": null,
   "id": "71053788",
   "metadata": {},
   "outputs": [],
   "source": []
  }
 ],
 "metadata": {
  "kernelspec": {
   "display_name": "Python 3 (ipykernel)",
   "language": "python",
   "name": "python3"
  },
  "language_info": {
   "codemirror_mode": {
    "name": "ipython",
    "version": 3
   },
   "file_extension": ".py",
   "mimetype": "text/x-python",
   "name": "python",
   "nbconvert_exporter": "python",
   "pygments_lexer": "ipython3",
   "version": "3.9.6"
  }
 },
 "nbformat": 4,
 "nbformat_minor": 5
}
