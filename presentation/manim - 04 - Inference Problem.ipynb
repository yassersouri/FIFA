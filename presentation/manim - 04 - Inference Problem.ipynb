{
 "cells": [
  {
   "cell_type": "code",
   "execution_count": 1,
   "id": "3b83bc1e",
   "metadata": {},
   "outputs": [
    {
     "data": {
      "text/html": [
       "<pre style=\"white-space:pre;overflow-x:auto;line-height:normal;font-family:Menlo,'DejaVu Sans Mono',consolas,'Courier New',monospace\">Manim Community <span style=\"color: #008000; text-decoration-color: #008000\">v0.10.0</span>\n",
       "\n",
       "</pre>\n"
      ],
      "text/plain": [
       "Manim Community \u001b[32mv0.\u001b[0m\u001b[32m10.0\u001b[0m\n",
       "\n"
      ]
     },
     "metadata": {},
     "output_type": "display_data"
    }
   ],
   "source": [
    "import numpy as np\n",
    "from manim import *\n",
    "config.media_width = \"60%\""
   ]
  },
  {
   "cell_type": "code",
   "execution_count": 2,
   "id": "4c99b04d",
   "metadata": {},
   "outputs": [],
   "source": [
    "import cv2"
   ]
  },
  {
   "cell_type": "code",
   "execution_count": 8,
   "id": "76ff47e5",
   "metadata": {},
   "outputs": [],
   "source": [
    "nll_image = cv2.imread(\"nll1.png\")[:, :, ::-1]"
   ]
  },
  {
   "cell_type": "code",
   "execution_count": 81,
   "id": "6a1b6cff",
   "metadata": {},
   "outputs": [
    {
     "name": "stderr",
     "output_type": "stream",
     "text": [
      "                                                             \r"
     ]
    },
    {
     "data": {
      "text/html": [
       "<video src=\"media/jupyter/Slides04Inference@2021-09-17@21-11-12.mp4\" controls autoplay loop style=\"max-width: 60%;\"  >\n",
       "      Your browser does not support the <code>video</code> element.\n",
       "    </video>"
      ],
      "text/plain": [
       "<IPython.core.display.Video object>"
      ]
     },
     "metadata": {},
     "output_type": "display_data"
    }
   ],
   "source": [
    "%%manim -v WARNING -qm Slides04Inference\n",
    "\n",
    "class Slides04Inference(Scene):\n",
    "    \n",
    "    def create_y_labels(self, plane: NumberPlane):\n",
    "        y_labels = [\"A\", \"C\", \"B\", \"A\"]\n",
    "        \n",
    "        self.y_label_group = []\n",
    "        for i, yl in enumerate(y_labels):\n",
    "            text = Tex(yl).scale(0.5)\n",
    "            text.next_to(plane.coords_to_point(0, i + 0.5), LEFT * 0.5)\n",
    "            self.y_label_group.append(text)\n",
    "        self.y_label_group.reverse()\n",
    "        \n",
    "    def create_x_labels(self, plane: NumberPlane):\n",
    "        x_labels = list(range(1, 28))\n",
    "        \n",
    "        self.x_label_group = []\n",
    "        for i, xl in enumerate(x_labels):\n",
    "            text = Tex(xl).scale(0.5)\n",
    "            text.next_to(plane.coords_to_point(i + 0.5, 0), DOWN * 0.5)\n",
    "            self.x_label_group.append(text)\n",
    "            \n",
    "    def create_probabilities_and_plane(self):\n",
    "        self.nll = ImageMobject(nll_image, scale_to_resolution=700)\n",
    "        self.nll.set_resampling_algorithm(RESAMPLING_ALGORITHMS[\"nearest\"])\n",
    "        \n",
    "        self.plane = NumberPlane(\n",
    "            x_range=[0, 27.01, 1],\n",
    "            y_range=[0, 4.01, 1],\n",
    "            x_length=self.nll.width,\n",
    "            y_length=self.nll.height,\n",
    "            axis_config={\n",
    "                \"stroke_color\": BLUE,\n",
    "                \"stroke_width\": 2,\n",
    "            },\n",
    "            background_line_style={\n",
    "                \"stroke_color\": BLUE,\n",
    "                \"stroke_width\": 2,\n",
    "            }\n",
    "        )        \n",
    "        \n",
    "        self.probabilities = Group(self.nll, self.plane)\n",
    "    \n",
    "    def construct(self):\n",
    "        title = Title(\"Inference In Action Segmentation\")\n",
    "        self.create_probabilities_and_plane()\n",
    "\n",
    "        self.add(title, self.probabilities)\n",
    "        \n",
    "        self.create_y_labels(self.plane)\n",
    "        self.create_x_labels(self.plane)\n",
    "        \n",
    "        self.play(FadeIn(VGroup(*self.y_label_group)))\n",
    "        self.play(FadeIn(VGroup(*self.x_label_group)))\n",
    "        \n",
    "        "
   ]
  },
  {
   "cell_type": "code",
   "execution_count": null,
   "id": "75ea3657",
   "metadata": {},
   "outputs": [],
   "source": []
  }
 ],
 "metadata": {
  "kernelspec": {
   "display_name": "Python 3 (ipykernel)",
   "language": "python",
   "name": "python3"
  },
  "language_info": {
   "codemirror_mode": {
    "name": "ipython",
    "version": 3
   },
   "file_extension": ".py",
   "mimetype": "text/x-python",
   "name": "python",
   "nbconvert_exporter": "python",
   "pygments_lexer": "ipython3",
   "version": "3.9.6"
  }
 },
 "nbformat": 4,
 "nbformat_minor": 5
}
