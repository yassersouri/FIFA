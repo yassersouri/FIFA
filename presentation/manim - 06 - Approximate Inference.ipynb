{
 "cells": [
  {
   "cell_type": "code",
   "execution_count": 1,
   "id": "15dcb78d",
   "metadata": {},
   "outputs": [
    {
     "data": {
      "text/html": [
       "<pre style=\"white-space:pre;overflow-x:auto;line-height:normal;font-family:Menlo,'DejaVu Sans Mono',consolas,'Courier New',monospace\">Manim Community <span style=\"color: #008000; text-decoration-color: #008000\">v0.10.0</span>\n",
       "\n",
       "</pre>\n"
      ],
      "text/plain": [
       "Manim Community \u001b[32mv0.\u001b[0m\u001b[32m10.0\u001b[0m\n",
       "\n"
      ]
     },
     "metadata": {},
     "output_type": "display_data"
    }
   ],
   "source": [
    "import typing as t\n",
    "\n",
    "import numpy as np\n",
    "from manim import *\n",
    "config.media_width = \"60%\""
   ]
  },
  {
   "cell_type": "code",
   "execution_count": 2,
   "id": "d2122696",
   "metadata": {},
   "outputs": [],
   "source": [
    "import cv2"
   ]
  },
  {
   "cell_type": "code",
   "execution_count": 3,
   "id": "293915ca",
   "metadata": {},
   "outputs": [
    {
     "name": "stderr",
     "output_type": "stream",
     "text": [
      "                                                                              \r"
     ]
    },
    {
     "data": {
      "text/html": [
       "<video src=\"media/jupyter/Slides06ApproximateInference@2021-09-29@11-15-31.mp4\" controls autoplay loop style=\"max-width: 60%;\"  >\n",
       "      Your browser does not support the <code>video</code> element.\n",
       "    </video>"
      ],
      "text/plain": [
       "<IPython.core.display.Video object>"
      ]
     },
     "metadata": {},
     "output_type": "display_data"
    }
   ],
   "source": [
    "%%manim -v WARNING Slides06ApproximateInference\n",
    "# %%manim -v WARNING -qm Slides06ApproximateInference\n",
    "\n",
    "class Slides06ApproximateInference(Scene):\n",
    "    \n",
    "    def create_citation(self, title: str) -> Text:\n",
    "        return Text(title, color=GRAY).scale(0.3)\n",
    "    \n",
    "    def create_text_group(self, texts: t.List[Tex]):\n",
    "        return VGroup(*texts).arrange(\n",
    "            DOWN,\n",
    "            center=False,\n",
    "            aligned_edge=LEFT\n",
    "        ).next_to(self.title, DOWN * 1.5).to_edge(LEFT, buff=1)\n",
    "    \n",
    "    def write_the_objective(self):\n",
    "        self.the_objective = MathTex(\n",
    "            r\"\\ell^*_{1:N}\",\n",
    "            r\" = \",\n",
    "            r\"\\underset{\\ell_{1:N}}{\\mathrm{argmin}}\",\n",
    "            r\"~E(\\ell_{1:N} | x_{1:T}, c_{1:N})\"\n",
    "        )\n",
    "        \n",
    "        self.add(self.the_objective)\n",
    "        self.wait()\n",
    "        self.play(\n",
    "            self.the_objective.animate.to_edge(UP)\n",
    "        )\n",
    "        \n",
    "    def create_parameters(self, count: int) -> MathTex:\n",
    "        return MathTex(r\"\\ell^{(\" + str(count) + r\")}_{1:N}\")\n",
    "    \n",
    "    def create_values(self, count: int) -> MathTex:\n",
    "        return MathTex(r\"E(\\ell^{(\" + str(count) + r\")}_{1:N})\")\n",
    "    \n",
    "    def create_grads(self, count: int) -> MathTex:\n",
    "        return MathTex(r\"\\frac{\\partial E}{\\partial \\ell} (\\ell^{(\" + str(count) + r\")}_{1:N})\")\n",
    "    \n",
    "    def animate_gradient_base_optimization(self):\n",
    "        l0 = self.create_parameters(0)\n",
    "        l1 = self.create_parameters(1)\n",
    "        l2 = self.create_parameters(2)\n",
    "        \n",
    "        g1 = self.create_grads(0).scale(0.75)\n",
    "        g2 = self.create_grads(1).scale(0.75)\n",
    "        \n",
    "        v0 = self.create_values(0)\n",
    "        v1 = self.create_values(1)\n",
    "        v_dot = MathTex(r\"\\cdots\")\n",
    "        \n",
    "        group = VGroup(\n",
    "            *[\n",
    "                l0, v0,\n",
    "                l1, v1,\n",
    "                l2, v_dot,\n",
    "            ]\n",
    "        )\n",
    "        \n",
    "        group.arrange_in_grid(\n",
    "            cols=2, col_widths=[5, 5],\n",
    "            row_heights=[2, 2, 2, 2],\n",
    "            col_alignments=[\"c\", \"c\"],\n",
    "            buff=1\n",
    "        ).next_to(self.title, DOWN, buff=1)\n",
    "        \n",
    "        a1 = Arrow(l0.get_center() + 0.5 * RIGHT, v0.get_center() - 0.75 * RIGHT)\n",
    "        b1 = Arrow(v0, l1.get_center() + 0.25 * UP + 0.25 * RIGHT)\n",
    "        d1 = Arrow(l0.get_center() + 0.25 * DOWN, l1.get_center() - 0.25 * DOWN)\n",
    "        \n",
    "        a2 = Arrow(l1.get_center() + 0.5 * RIGHT, v1.get_center() - 0.75 * RIGHT)\n",
    "        b2 = Arrow(v1, l2.get_center() + 0.25 * UP + 0.25 * RIGHT)\n",
    "        d2 = Arrow(l1.get_center() + 0.25 * DOWN, l2.get_center() - 0.25 * DOWN)\n",
    "        \n",
    "        a3 = Arrow(l2.get_center() + 0.5 * RIGHT, v_dot.get_center() - 0.75 * RIGHT)\n",
    "        \n",
    "        g1.move_to(b1).shift(0.33 * UP + 0.5 * LEFT).rotate(PI/6)\n",
    "        g2.move_to(b2).shift(0.33 * UP + 0.5 * LEFT).rotate(PI/6)\n",
    "        \n",
    "        arrows = VGroup(a1, b1, d1, a2, b2, d2, a3, g1, g2)\n",
    "        \n",
    "        # step 0\n",
    "        self.play(FadeIn(l0))\n",
    "        self.wait()\n",
    "        self.play(Create(a1))\n",
    "        self.play(FadeIn(v0))\n",
    "        self.wait()\n",
    "        self.play(\n",
    "            AnimationGroup(FadeIn(g1), Create(b1))\n",
    "        )\n",
    "        self.wait()\n",
    "        self.play(\n",
    "            AnimationGroup(FadeIn(l1), Create(d1))\n",
    "        )\n",
    "        self.wait()\n",
    "        \n",
    "        # clear step 0\n",
    "        self.remove(l0, v0, g1, a1, b1, d1)\n",
    "        shift_amount = a1.get_center() - a2.get_center()\n",
    "        self.play(\n",
    "            l1.animate.shift(shift_amount)\n",
    "        )\n",
    "        self.wait()\n",
    "        \n",
    "        # step 1\n",
    "        self.play(Create(a2.shift(shift_amount)))\n",
    "        self.play(FadeIn(v1.shift(shift_amount)))\n",
    "        self.wait()\n",
    "        self.play(\n",
    "            AnimationGroup(FadeIn(g2.shift(shift_amount)), Create(b2.shift(shift_amount)))\n",
    "        )\n",
    "        self.wait()\n",
    "        self.play(\n",
    "            AnimationGroup(FadeIn(l2.shift(shift_amount)), Create(d2.shift(shift_amount)))\n",
    "        )\n",
    "        self.wait()\n",
    "        \n",
    "        # step dots\n",
    "        self.play(\n",
    "            AnimationGroup(Create(a3.shift(shift_amount)), FadeIn(v_dot.shift(shift_amount)))\n",
    "        )\n",
    "        self.wait()\n",
    "        \n",
    "    def construct(self):\n",
    "        self.the_objective = r\"\\ell^*_{1:N} = \\underset{\\ell_{1:N}}{\\mathrm{argmin}}~E(\\ell_{1:N} | x_{1:T}, c_{1:N})\"\n",
    "        self.title = Title(f\"${self.the_objective}$\")\n",
    "        self.add(self.title)\n",
    "        \n",
    "#         self.write_the_objective()\n",
    "        \n",
    "        self.animate_gradient_base_optimization()\n",
    "        \n",
    "        self.wait()"
   ]
  },
  {
   "cell_type": "code",
   "execution_count": null,
   "id": "71053788",
   "metadata": {},
   "outputs": [],
   "source": []
  }
 ],
 "metadata": {
  "kernelspec": {
   "display_name": "Python 3 (ipykernel)",
   "language": "python",
   "name": "python3"
  },
  "language_info": {
   "codemirror_mode": {
    "name": "ipython",
    "version": 3
   },
   "file_extension": ".py",
   "mimetype": "text/x-python",
   "name": "python",
   "nbconvert_exporter": "python",
   "pygments_lexer": "ipython3",
   "version": "3.9.6"
  }
 },
 "nbformat": 4,
 "nbformat_minor": 5
}
