{
 "cells": [
  {
   "cell_type": "code",
   "execution_count": 15,
   "id": "15dcb78d",
   "metadata": {},
   "outputs": [],
   "source": [
    "import typing as t\n",
    "\n",
    "import numpy as np\n",
    "from manim import *\n",
    "config.media_width = \"60%\""
   ]
  },
  {
   "cell_type": "code",
   "execution_count": 2,
   "id": "d2122696",
   "metadata": {},
   "outputs": [],
   "source": [
    "import cv2"
   ]
  },
  {
   "cell_type": "code",
   "execution_count": 25,
   "id": "293915ca",
   "metadata": {},
   "outputs": [
    {
     "name": "stderr",
     "output_type": "stream",
     "text": [
      "                                                             \r"
     ]
    },
    {
     "data": {
      "text/html": [
       "<video src=\"media/jupyter/Slides05ExactInference@2021-09-22@18-47-08.mp4\" controls autoplay loop style=\"max-width: 60%;\"  >\n",
       "      Your browser does not support the <code>video</code> element.\n",
       "    </video>"
      ],
      "text/plain": [
       "<IPython.core.display.Video object>"
      ]
     },
     "metadata": {},
     "output_type": "display_data"
    }
   ],
   "source": [
    "%%manim -v WARNING -qm Slides05ExactInference\n",
    "\n",
    "class Slides05ExactInference(Scene):\n",
    "    \n",
    "    def create_citation(self, title: str) -> Text:\n",
    "        return Text(title, color=GRAY).scale(0.3)\n",
    "    \n",
    "    def create_text_group(self, texts: t.List[Tex]):\n",
    "        return VGroup(*texts).arrange(\n",
    "            DOWN,\n",
    "            center=False,\n",
    "            aligned_edge=LEFT\n",
    "        ).next_to(self.title, DOWN * 1.5).to_edge(LEFT, buff=1)\n",
    "\n",
    "    def construct(self):\n",
    "        self.title = Title(\"Exact Inference\")\n",
    "        self.add(self.title)\n",
    "        \n",
    "        nnv_paper = self.create_citation(\"[NNV] A. Richard, et al. Neuralnetwork-Viterbi: A Framework for Weakly Supervised Video Learning. CVPR 2018\")\n",
    "        nnv_paper.to_edge(DOWN + LEFT)\n",
    "        \n",
    "        t1 = Tex(\"The dynamic programming solution [NNV]:\")\n",
    "        t2 = Tex(\" - exact\")\n",
    "        t3 = Tex(\" - slow\")\n",
    "        t4 = Tex(\" - not parallelizable.\")\n",
    "        \n",
    "        texts = self.create_text_group([t1, t2, t3, t4])\n",
    "        \n",
    "        t2.shift(RIGHT)\n",
    "        t3.shift(RIGHT)\n",
    "        t4.shift(RIGHT)\n",
    "        \n",
    "        self.play(\n",
    "            AnimationGroup(\n",
    "                Write(t1),\n",
    "                FadeIn(nnv_paper)\n",
    "            )\n",
    "        )\n",
    "        self.wait()\n",
    "        self.play(Write(t2))\n",
    "        self.play(Write(t3))\n",
    "        self.play(Write(t4))\n",
    "        \n",
    "        self.wait()"
   ]
  },
  {
   "cell_type": "code",
   "execution_count": null,
   "id": "71053788",
   "metadata": {},
   "outputs": [],
   "source": []
  }
 ],
 "metadata": {
  "kernelspec": {
   "display_name": "Python 3 (ipykernel)",
   "language": "python",
   "name": "python3"
  },
  "language_info": {
   "codemirror_mode": {
    "name": "ipython",
    "version": 3
   },
   "file_extension": ".py",
   "mimetype": "text/x-python",
   "name": "python",
   "nbconvert_exporter": "python",
   "pygments_lexer": "ipython3",
   "version": "3.9.6"
  }
 },
 "nbformat": 4,
 "nbformat_minor": 5
}
