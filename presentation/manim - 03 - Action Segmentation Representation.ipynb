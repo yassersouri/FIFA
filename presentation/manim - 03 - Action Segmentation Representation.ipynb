{
 "cells": [
  {
   "cell_type": "code",
   "execution_count": 1,
   "id": "15dcb78d",
   "metadata": {},
   "outputs": [
    {
     "data": {
      "text/html": [
       "<pre style=\"white-space:pre;overflow-x:auto;line-height:normal;font-family:Menlo,'DejaVu Sans Mono',consolas,'Courier New',monospace\">Manim Community <span style=\"color: #008000; text-decoration-color: #008000\">v0.10.0</span>\n",
       "\n",
       "</pre>\n"
      ],
      "text/plain": [
       "Manim Community \u001b[32mv0.\u001b[0m\u001b[32m10.0\u001b[0m\n",
       "\n"
      ]
     },
     "metadata": {},
     "output_type": "display_data"
    }
   ],
   "source": [
    "import typing as t\n",
    "import numpy as np\n",
    "from manim import *\n",
    "config.media_width = \"60%\""
   ]
  },
  {
   "cell_type": "code",
   "execution_count": 2,
   "id": "d2122696",
   "metadata": {},
   "outputs": [],
   "source": [
    "import cv2"
   ]
  },
  {
   "cell_type": "code",
   "execution_count": 35,
   "id": "293915ca",
   "metadata": {},
   "outputs": [
    {
     "data": {
      "text/html": [
       "<video src=\"media/jupyter/Slides03ActSegRepresentation@2021-09-29@14-07-29.mp4\" controls autoplay loop style=\"max-width: 60%;\"  >\n",
       "      Your browser does not support the <code>video</code> element.\n",
       "    </video>"
      ],
      "text/plain": [
       "<IPython.core.display.Video object>"
      ]
     },
     "metadata": {},
     "output_type": "display_data"
    }
   ],
   "source": [
    "%%manim -v WARNING Slides03ActSegRepresentation\n",
    "# %%manim -v WARNING -qm Slides03ActSegRepresentation\n",
    "\n",
    "class Slides03ActSegRepresentation(Scene):\n",
    "    \n",
    "    def create_text_group(self, texts: t.List[Tex]):\n",
    "        return VGroup(*texts).arrange(\n",
    "            DOWN,\n",
    "            center=False,\n",
    "            aligned_edge=LEFT\n",
    "        ).next_to(self.title, DOWN * 1.5).to_edge(LEFT, buff=1)\n",
    "    \n",
    "    def construct(self):\n",
    "        self.title = Title(\"Action Segmentation Output Representation\")\n",
    "        self.add(self.title)\n",
    "        \n",
    "        frame_text = Tex(\"--- Frame-level\")\n",
    "        \n",
    "        frame_math = MathTex(r\"y_{1:T} \\in \\{1, \\cdots, M\\}^T\")\n",
    "        frame_example = Tex(r\"e.g. [{{A}}, {{A}}, {{B}}, {{B}}, {{B}}, {{B}}, {{C}}, {{C}}, {{C}}, {{C}}, {{C}}, {{A}}]\")\n",
    "        frame_example.set_color_by_tex(\"A\", BLUE)\n",
    "        frame_example.set_color_by_tex(\"B\", RED)\n",
    "        frame_example.set_color_by_tex(\"C\", GREEN)\n",
    "        \n",
    "        segment_text = Tex(\"--- Segment-level\")\n",
    "        segment_math = MathTex(\n",
    "            r\"c_{1:N} &\\in \\{1, \\cdots, M\\}^N\\\\\",\n",
    "            r\"\\ell_{1:N} &\\in \\mathrm{R}_{+}^N\"\n",
    "        )\n",
    "        segment_example = Tex(r\"e.g. \\big\\{({{A}}, {{B}}, {{C}}, {{A}}), (2, 4, 5, 1)\\big\\}\")\n",
    "        segment_example.set_color_by_tex(\"A\", BLUE)\n",
    "        segment_example.set_color_by_tex(\"B\", RED)\n",
    "        segment_example.set_color_by_tex(\"C\", GREEN)\n",
    "        \n",
    "        all_elements = VGroup(\n",
    "            frame_text, frame_math, frame_example,\n",
    "            segment_text, segment_math, segment_example\n",
    "        ).arrange(DOWN, aligned_edge=LEFT, center=True, buff=0.4).next_to(self.title, DOWN * 1.5)\n",
    "        \n",
    "        frame_text.to_edge(LEFT, buff=1)\n",
    "        segment_text.to_edge(LEFT, buff=1)\n",
    "        \n",
    "        frame_math.move_to((0, frame_math.get_center()[1], 0))\n",
    "        segment_math.move_to((0, segment_math.get_center()[1], 0))\n",
    "        \n",
    "        self.wait(2)\n",
    "        \n",
    "        self.add(frame_text, frame_math, frame_example)\n",
    "        self.wait(2)\n",
    "        \n",
    "        self.add(segment_text, segment_math, segment_example)\n",
    "        \n",
    "        self.wait(2)"
   ]
  },
  {
   "cell_type": "code",
   "execution_count": null,
   "id": "71053788",
   "metadata": {},
   "outputs": [],
   "source": []
  }
 ],
 "metadata": {
  "kernelspec": {
   "display_name": "Python 3 (ipykernel)",
   "language": "python",
   "name": "python3"
  },
  "language_info": {
   "codemirror_mode": {
    "name": "ipython",
    "version": 3
   },
   "file_extension": ".py",
   "mimetype": "text/x-python",
   "name": "python",
   "nbconvert_exporter": "python",
   "pygments_lexer": "ipython3",
   "version": "3.9.6"
  }
 },
 "nbformat": 4,
 "nbformat_minor": 5
}
