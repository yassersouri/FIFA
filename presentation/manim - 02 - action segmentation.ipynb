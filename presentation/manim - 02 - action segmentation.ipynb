{
 "cells": [
  {
   "cell_type": "code",
   "execution_count": 2,
   "id": "15dcb78d",
   "metadata": {},
   "outputs": [
    {
     "data": {
      "text/html": [
       "<pre style=\"white-space:pre;overflow-x:auto;line-height:normal;font-family:Menlo,'DejaVu Sans Mono',consolas,'Courier New',monospace\">Manim Community <span style=\"color: #008000; text-decoration-color: #008000\">v0.10.0</span>\n",
       "\n",
       "</pre>\n"
      ],
      "text/plain": [
       "Manim Community \u001b[32mv0.\u001b[0m\u001b[32m10.0\u001b[0m\n",
       "\n"
      ]
     },
     "metadata": {},
     "output_type": "display_data"
    }
   ],
   "source": [
    "import typing as t\n",
    "import numpy as np\n",
    "from manim import *\n",
    "config.media_width = \"60%\""
   ]
  },
  {
   "cell_type": "code",
   "execution_count": 3,
   "id": "d2122696",
   "metadata": {},
   "outputs": [],
   "source": [
    "import cv2"
   ]
  },
  {
   "cell_type": "code",
   "execution_count": 11,
   "id": "293915ca",
   "metadata": {},
   "outputs": [
    {
     "data": {
      "text/html": [
       "<video src=\"media/jupyter/Slides02ActSeg@2021-09-29@13-09-53.mp4\" controls autoplay loop style=\"max-width: 60%;\"  >\n",
       "      Your browser does not support the <code>video</code> element.\n",
       "    </video>"
      ],
      "text/plain": [
       "<IPython.core.display.Video object>"
      ]
     },
     "metadata": {},
     "output_type": "display_data"
    }
   ],
   "source": [
    "%%manim -v WARNING Slides02ActSeg\n",
    "# %%manim -v WARNING -qm Slides02ActSeg\n",
    "\n",
    "class Slides02ActSeg(Scene):\n",
    "    \n",
    "    def create_text_group(self, texts: t.List[Tex]):\n",
    "        return VGroup(*texts).arrange(\n",
    "            DOWN,\n",
    "            center=False,\n",
    "            aligned_edge=LEFT\n",
    "        ).next_to(self.title, DOWN * 1.5).to_edge(LEFT, buff=1)\n",
    "    \n",
    "    def construct(self):\n",
    "        self.title = Title(\"Action Segmentation\")\n",
    "        self.add(self.title)\n",
    "        \n",
    "        text1 = Tex(r\"Given an untrimmed video\")\n",
    "        text2 = Tex(r\"Predict the action label for each frame of the video\")\n",
    "        group = self.create_text_group([text1, text2])\n",
    "        \n",
    "        input_video = MathTex(r\"x_{1:T} \\in \\mathrm{R}^{T \\times D}\")\n",
    "        output = MathTex(r\"y_{1:T}\")\n",
    "        self.notation = VGroup(input_video, output).arrange(RIGHT, buff=3.0)\n",
    "        \n",
    "        arrow = Arrow(input_video.get_edge_center(RIGHT), input_video.get_edge_center(RIGHT) + RIGHT * 3)\n",
    "\n",
    "        self.add(group)\n",
    "        self.add(input_video, output, arrow)\n",
    "        \n",
    "        self.wait(5)\n",
    "        "
   ]
  },
  {
   "cell_type": "code",
   "execution_count": null,
   "id": "71053788",
   "metadata": {},
   "outputs": [],
   "source": []
  }
 ],
 "metadata": {
  "kernelspec": {
   "display_name": "Python 3 (ipykernel)",
   "language": "python",
   "name": "python3"
  },
  "language_info": {
   "codemirror_mode": {
    "name": "ipython",
    "version": 3
   },
   "file_extension": ".py",
   "mimetype": "text/x-python",
   "name": "python",
   "nbconvert_exporter": "python",
   "pygments_lexer": "ipython3",
   "version": "3.9.6"
  }
 },
 "nbformat": 4,
 "nbformat_minor": 5
}
