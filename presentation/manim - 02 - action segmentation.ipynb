{
 "cells": [
  {
   "cell_type": "code",
   "execution_count": 1,
   "id": "15dcb78d",
   "metadata": {},
   "outputs": [
    {
     "data": {
      "text/html": [
       "<pre style=\"white-space:pre;overflow-x:auto;line-height:normal;font-family:Menlo,'DejaVu Sans Mono',consolas,'Courier New',monospace\">Manim Community <span style=\"color: #008000; text-decoration-color: #008000\">v0.10.0</span>\n",
       "\n",
       "</pre>\n"
      ],
      "text/plain": [
       "Manim Community \u001b[32mv0.\u001b[0m\u001b[32m10.0\u001b[0m\n",
       "\n"
      ]
     },
     "metadata": {},
     "output_type": "display_data"
    }
   ],
   "source": [
    "import numpy as np\n",
    "from manim import *\n",
    "config.media_width = \"60%\""
   ]
  },
  {
   "cell_type": "code",
   "execution_count": 2,
   "id": "d2122696",
   "metadata": {},
   "outputs": [],
   "source": [
    "import cv2"
   ]
  },
  {
   "cell_type": "raw",
   "id": "250ce1be",
   "metadata": {},
   "source": [
    "In this paper we focus on the problem of \"action segmentation\".\n",
    "\n"
   ]
  },
  {
   "cell_type": "markdown",
   "id": "13b7582d",
   "metadata": {},
   "source": [
    "# 01 - Introduction"
   ]
  },
  {
   "cell_type": "code",
   "execution_count": 43,
   "id": "293915ca",
   "metadata": {},
   "outputs": [
    {
     "name": "stderr",
     "output_type": "stream",
     "text": [
      "                                                             \r"
     ]
    },
    {
     "data": {
      "text/html": [
       "<video src=\"media/jupyter/Slides02ActSeg@2021-09-17@14-39-32.mp4\" controls autoplay loop style=\"max-width: 60%;\"  >\n",
       "      Your browser does not support the <code>video</code> element.\n",
       "    </video>"
      ],
      "text/plain": [
       "<IPython.core.display.Video object>"
      ]
     },
     "metadata": {},
     "output_type": "display_data"
    }
   ],
   "source": [
    "%%manim -v WARNING -qm Slides02ActSeg\n",
    "\n",
    "class Slides02ActSeg(Scene):\n",
    "    def construct(self):\n",
    "        title = Title(\"Action Segmentation\")\n",
    "        \n",
    "        self.play(Write(title))\n",
    "#         self.wait()\n",
    "        \n",
    "        text1 = Tex(r\"Given an untrimmed video\").shift(LEFT)\n",
    "        text2 = Tex(r\"Predict the action label for each frame of the video\").shift(LEFT)\n",
    "        group = VGroup(text1, text2).arrange(DOWN, center=False, aligned_edge=LEFT).move_to(title.get_bottom() + DOWN).to_edge(LEFT, buff=1)\n",
    "        \n",
    "        \n",
    "        self.add(group)\n",
    "        self.wait()\n",
    "        \n",
    "        \n",
    "#         self.play(Write(text1))\n",
    "#         self.wait()\n",
    "#         self.play(Write(text2))\n",
    "#         self.wait()"
   ]
  },
  {
   "cell_type": "code",
   "execution_count": null,
   "id": "71053788",
   "metadata": {},
   "outputs": [],
   "source": []
  }
 ],
 "metadata": {
  "kernelspec": {
   "display_name": "Python 3 (ipykernel)",
   "language": "python",
   "name": "python3"
  },
  "language_info": {
   "codemirror_mode": {
    "name": "ipython",
    "version": 3
   },
   "file_extension": ".py",
   "mimetype": "text/x-python",
   "name": "python",
   "nbconvert_exporter": "python",
   "pygments_lexer": "ipython3",
   "version": "3.9.6"
  }
 },
 "nbformat": 4,
 "nbformat_minor": 5
}
